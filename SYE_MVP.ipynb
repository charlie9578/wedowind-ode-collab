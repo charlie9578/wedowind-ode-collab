{
 "cells": [
  {
   "cell_type": "markdown",
   "metadata": {},
   "source": [
    "# Static Yaw Misalignment MVP\n"
   ]
  },
  {
   "cell_type": "markdown",
   "metadata": {},
   "source": [
    "## WeDoWind Rapperswil 2024-06-18\n",
    "\n",
    "This notebook is designed to show a simple static yaw misalignment analysis using a single year of the data from Kelmarsh wind farm"
   ]
  },
  {
   "cell_type": "markdown",
   "metadata": {},
   "source": [
    "## Collaborative coding\n",
    "\n",
    "Feel free to edit and change the code, but this will change it for everyone! :D\n",
    "\n",
    "Please add commentary where appropriate, and propose changes and improvements for others to perform."
   ]
  },
  {
   "cell_type": "markdown",
   "metadata": {},
   "source": [
    "## License\n",
    "\n",
    "I've set the repository up on Github with an open MIT license, so anything you contribute will be open source. Hope thats okay :)"
   ]
  },
  {
   "cell_type": "markdown",
   "metadata": {},
   "source": [
    "## Improvements\n",
    "\n",
    "- Functionise the code\n",
    "- Expand to more turbines\n",
    "- Include the yaw misalginment frequency distribution\n",
    "- Improve the power curve filtering\n",
    "- Improve the comments and Markdown\n",
    "- Propose your own improvements\n",
    "- You can also comment with \"TODO - this will make things better\" within the code"
   ]
  },
  {
   "cell_type": "code",
   "execution_count": null,
   "metadata": {},
   "outputs": [],
   "source": [
    "import requests\n",
    "from pathlib import Path\n",
    "from tqdm import tqdm\n",
    "import logging\n",
    "import re\n",
    "import pandas as pd\n",
    "from matplotlib import pyplot as plt\n",
    "import numpy as np\n",
    "from scipy.optimize import curve_fit\n",
    "import zipfile\n"
   ]
  },
  {
   "cell_type": "code",
   "execution_count": null,
   "metadata": {},
   "outputs": [],
   "source": [
    "logger = logging.getLogger()"
   ]
  },
  {
   "cell_type": "code",
   "execution_count": null,
   "metadata": {},
   "outputs": [],
   "source": [
    "BYTES_MB = 1024 * 1024"
   ]
  },
  {
   "cell_type": "code",
   "execution_count": null,
   "metadata": {},
   "outputs": [],
   "source": [
    "\n",
    "def download_file(url: str, outfile: str | Path) -> None:\n",
    "    \"\"\"\n",
    "    Download a file from the web, based on its url, and save to the outfile.\n",
    "\n",
    "    Args:\n",
    "        url(:obj:`str`): Url of data to download.\n",
    "        outfile(:obj:`str` | :obj:`Path`): File path to which the download is saved.\n",
    "    \"\"\"\n",
    "\n",
    "    outfile = Path(outfile).resolve()\n",
    "    result = requests.get(url, stream=True)\n",
    "\n",
    "    with outfile.open(\"wb\") as f:\n",
    "        for chunk in tqdm(result.iter_content(chunk_size=BYTES_MB), desc=\"MB downloaded\"):\n",
    "            if chunk:\n",
    "                f.write(chunk)\n"
   ]
  },
  {
   "cell_type": "code",
   "execution_count": null,
   "metadata": {},
   "outputs": [],
   "source": [
    "url = r\"https://zenodo.org/records/8252025/files/Kelmarsh_12.3MW_6xSenvion_MM92.kmz?download=1\"\n",
    "outfile = Path(\"Kelmarsh_12.3MW_6xSenvion_MM92.kmz\")\n",
    "\n",
    "if not outfile.is_file():\n",
    "    download_file(url,outfile)\n"
   ]
  },
  {
   "cell_type": "code",
   "execution_count": null,
   "metadata": {},
   "outputs": [],
   "source": [
    "url = r\"https://zenodo.org/records/8252025/files/Kelmarsh_SCADA_2022_4457.zip?download=1\"\n",
    "outpath = Path(\"data\")\n",
    "outfile = outpath/Path(\"Kelmarsh_SCADA_2022_4457.zip\")\n",
    "\n",
    "outpath.mkdir(parents=True, exist_ok=True)\n",
    "\n",
    "if not outfile.is_file():   \n",
    "    download_file(url,outfile)\n",
    "\n",
    "    with zipfile.ZipFile(outfile,\"r\") as zip_ref:\n",
    "        zip_ref.extractall(outpath)\n"
   ]
  },
  {
   "cell_type": "code",
   "execution_count": null,
   "metadata": {},
   "outputs": [],
   "source": [
    "scada_files = list(Path().rglob(\"data/Turbine_Data*.csv\"))"
   ]
  },
  {
   "cell_type": "code",
   "execution_count": null,
   "metadata": {},
   "outputs": [],
   "source": [
    "use_columns = [\n",
    "            \"# Date and time\",\n",
    "            \"Power (kW)\",\n",
    "            \"Wind speed (m/s)\",\n",
    "            \"Wind direction (°)\",\n",
    "            \"Nacelle position (°)\",\n",
    "            \"Blade angle (pitch position) A (°)\",\n",
    "        ]\n",
    "\n",
    "csv_params = {\n",
    "        \"index_col\": \"# Date and time\",\n",
    "        \"parse_dates\": True,\n",
    "        \"skiprows\": 9,\n",
    "        \"usecols\": use_columns,\n",
    "    }"
   ]
  },
  {
   "cell_type": "code",
   "execution_count": null,
   "metadata": {},
   "outputs": [],
   "source": [
    "str(scada_files[0])[-42:-32]"
   ]
  },
  {
   "cell_type": "code",
   "execution_count": null,
   "metadata": {},
   "outputs": [],
   "source": [
    "scada_lst = []\n",
    "\n",
    "for file in scada_files:\n",
    "    turbine_name = str(file)[-42:-32] # TODO - should take name of file not the full path\n",
    "\n",
    "    scada_wt = pd.read_csv(file, **csv_params)\n",
    "\n",
    "    scada_wt[\"Turbine\"] = turbine_name\n",
    "    scada_wt.index.names = [\"Timestamp\"]\n",
    "    scada_lst.append(scada_wt.copy())\n",
    "\n",
    "scada = pd.concat(scada_lst)"
   ]
  },
  {
   "cell_type": "code",
   "execution_count": null,
   "metadata": {},
   "outputs": [],
   "source": [
    "scada"
   ]
  },
  {
   "cell_type": "code",
   "execution_count": null,
   "metadata": {},
   "outputs": [],
   "source": [
    "scada[\"Yaw error\"] = scada[\"Nacelle position (°)\"] - scada[\"Wind direction (°)\"] # TODO - circular difference rather than absolute"
   ]
  },
  {
   "cell_type": "code",
   "execution_count": null,
   "metadata": {},
   "outputs": [],
   "source": [
    "kelmarsh_1 = scada[scada[\"Turbine\"]==\"Kelmarsh_1\"].drop(columns=\"Turbine\")"
   ]
  },
  {
   "cell_type": "code",
   "execution_count": null,
   "metadata": {},
   "outputs": [],
   "source": [
    "kelmarsh_1"
   ]
  },
  {
   "cell_type": "code",
   "execution_count": null,
   "metadata": {},
   "outputs": [],
   "source": [
    "power_curve = plt.figure()\n",
    "plt.plot(kelmarsh_1[\"Wind speed (m/s)\"],kelmarsh_1[\"Power (kW)\"],marker='.',linestyle='')\n",
    "\n",
    "pitch_curve = plt.figure()\n",
    "plt.plot(kelmarsh_1[\"Wind speed (m/s)\"],kelmarsh_1[\"Blade angle (pitch position) A (°)\"],marker='.',linestyle='')\n"
   ]
  },
  {
   "cell_type": "code",
   "execution_count": null,
   "metadata": {},
   "outputs": [],
   "source": [
    "kelmarsh_1_filtered = kelmarsh_1[(kelmarsh_1[\"Blade angle (pitch position) A (°)\"]<1.5) \n",
    "                                 & (kelmarsh_1[\"Blade angle (pitch position) A (°)\"]>-1.5)]"
   ]
  },
  {
   "cell_type": "code",
   "execution_count": null,
   "metadata": {},
   "outputs": [],
   "source": [
    "plt.figure(power_curve)\n",
    "plt.plot(kelmarsh_1_filtered[\"Wind speed (m/s)\"],kelmarsh_1_filtered[\"Power (kW)\"],marker='.',linestyle='')\n",
    "plt.show()"
   ]
  },
  {
   "cell_type": "code",
   "execution_count": null,
   "metadata": {},
   "outputs": [],
   "source": [
    "plt.figure(pitch_curve)\n",
    "plt.plot(kelmarsh_1_filtered[\"Wind speed (m/s)\"],kelmarsh_1_filtered[\"Blade angle (pitch position) A (°)\"],marker='.',linestyle='')\n",
    "plt.show()"
   ]
  },
  {
   "cell_type": "code",
   "execution_count": null,
   "metadata": {},
   "outputs": [],
   "source": [
    "kelmarsh_1_filtered"
   ]
  },
  {
   "cell_type": "markdown",
   "metadata": {},
   "source": [
    "## A crude static yaw misalignment analysis"
   ]
  },
  {
   "cell_type": "code",
   "execution_count": null,
   "metadata": {},
   "outputs": [],
   "source": [
    "ws_bins=[5.0, 6.0, 7.0, 8.0, 9.0, 10.0]\n",
    "vane_bins=np.linspace(-25,25,51)\n",
    "\n",
    "kelmarsh_1_filtered['ws_bin'] = pd.cut(kelmarsh_1_filtered['Wind speed (m/s)'], ws_bins)\n",
    "kelmarsh_1_filtered['yaw_bin'] = pd.cut(kelmarsh_1_filtered['Yaw error'], vane_bins)"
   ]
  },
  {
   "cell_type": "code",
   "execution_count": null,
   "metadata": {},
   "outputs": [],
   "source": [
    "kelmarsh_1_filtered"
   ]
  },
  {
   "cell_type": "code",
   "execution_count": null,
   "metadata": {},
   "outputs": [],
   "source": [
    "kelmarsh_1_sye_data = kelmarsh_1_filtered.groupby(by=[\"ws_bin\",\"yaw_bin\"])[\"Power (kW)\"].median()/kelmarsh_1_filtered.groupby(by=[\"ws_bin\"])[\"Power (kW)\"].median()\n",
    "kelmarsh_1_sye_data = kelmarsh_1_sye_data.reset_index()\n"
   ]
  },
  {
   "cell_type": "code",
   "execution_count": null,
   "metadata": {},
   "outputs": [],
   "source": [
    "kelmarsh_1_sye_data[\"ws_bin_left\"] = pd.IntervalIndex(kelmarsh_1_sye_data['ws_bin']).left\n",
    "kelmarsh_1_sye_data[\"yaw_bin_left\"] = pd.IntervalIndex(kelmarsh_1_sye_data['yaw_bin']).left\n",
    "\n",
    "kelmarsh_1_sye_data = kelmarsh_1_sye_data.dropna()"
   ]
  },
  {
   "cell_type": "code",
   "execution_count": null,
   "metadata": {},
   "outputs": [],
   "source": [
    "kelmarsh_1_sye_data"
   ]
  },
  {
   "cell_type": "code",
   "execution_count": null,
   "metadata": {},
   "outputs": [],
   "source": [
    "def cos_curve(x, A, Offset, cos_exp):\n",
    "    \"\"\"Computes a cosine exponent curve as a function of yaw misalignment for curve fitting.\n",
    "\n",
    "    Args:\n",
    "        x (:obj:`float`): The yaw misalignment input in degrees.\n",
    "        A (:obj:`float`): The amplitude of the cosine exponent curve.\n",
    "        Offset (:obj:`float`): The yaw misaligment offset at which the cosine exponent curve is\n",
    "            maximized in degrees.\n",
    "        cos_exp (:obj:`float`): The exponent to which the cosine curve is raised.\n",
    "    Returns:\n",
    "        :obj:`float`: The value of the cosine exponent curve for the provided yaw misalignment.\n",
    "    \"\"\"\n",
    "    return A * np.cos((np.pi / 180) * (x - Offset)) ** cos_exp"
   ]
  },
  {
   "cell_type": "code",
   "execution_count": null,
   "metadata": {},
   "outputs": [],
   "source": [
    "for ws_bin in set(kelmarsh_1_sye_data[\"ws_bin_left\"]):\n",
    "    kelmarsh_1_sye_ws_bin = kelmarsh_1_sye_data[kelmarsh_1_sye_data[\"ws_bin_left\"]==ws_bin]\n",
    "    \n",
    "    fig = plt.figure()\n",
    "    ax = fig.add_subplot(111)\n",
    "\n",
    "    ax.plot(kelmarsh_1_sye_ws_bin[\"yaw_bin_left\"],kelmarsh_1_sye_ws_bin[\"Power (kW)\"],marker=\".\",linestyle=\"\")\n",
    "\n",
    "    curve_fit_params = curve_fit(cos_curve, \n",
    "            kelmarsh_1_sye_ws_bin[\"yaw_bin_left\"], \n",
    "            kelmarsh_1_sye_ws_bin[\"Power (kW)\"], \n",
    "            [kelmarsh_1_sye_ws_bin[\"Power (kW)\"].max(), 0.0, 2.0])[0]\n",
    "\n",
    "    ax.plot(vane_bins,cos_curve(vane_bins,*curve_fit_params),c=\"red\")\n",
    "    \n",
    "    ax.plot(\n",
    "        2*[curve_fit_params[1]],\n",
    "        [\n",
    "                kelmarsh_1_sye_ws_bin[\"Power (kW)\"].max(),\n",
    "                kelmarsh_1_sye_ws_bin[\"Power (kW)\"].min(),\n",
    "        ],\n",
    "        color=\"red\",\n",
    "        linestyle=\"--\",\n",
    "        label=rf\"Max. Power Vane Angle = {round(curve_fit_params[1],1)}$^\\circ$\",  # noqa: W605\n",
    "        )\n",
    "\n",
    "    plt.title(f\"Wind speed {ws_bin}m/s\")\n",
    "    \n",
    "    ax.legend()\n",
    "    ax.set_xlim([-25,25])\n",
    "    ax.set_ylim([kelmarsh_1_sye_ws_bin[\"Power (kW)\"].min(),kelmarsh_1_sye_ws_bin[\"Power (kW)\"].max()])\n",
    "\n",
    "    "
   ]
  },
  {
   "cell_type": "markdown",
   "metadata": {},
   "source": [
    "## A slightly better static yaw misalignment analysis (?)"
   ]
  },
  {
   "cell_type": "code",
   "execution_count": null,
   "metadata": {},
   "outputs": [],
   "source": [
    "scada_filtered = scada[(scada[\"Blade angle (pitch position) A (°)\"]<1.5) \n",
    "                            & (scada[\"Blade angle (pitch position) A (°)\"]>-1.5)]"
   ]
  },
  {
   "cell_type": "code",
   "execution_count": null,
   "metadata": {},
   "outputs": [],
   "source": [
    "kelmarsh_others = scada_filtered[scada_filtered[\"Turbine\"]!=\"Kelmarsh_1\"]"
   ]
  },
  {
   "cell_type": "code",
   "execution_count": null,
   "metadata": {},
   "outputs": [],
   "source": [
    "site_wind_speed = kelmarsh_others.groupby(\"Timestamp\")[\"Wind speed (m/s)\"].mean()"
   ]
  },
  {
   "cell_type": "code",
   "execution_count": null,
   "metadata": {},
   "outputs": [],
   "source": [
    "kelmarsh_1_filtered[\"Site wind speed\"] = site_wind_speed"
   ]
  },
  {
   "cell_type": "code",
   "execution_count": null,
   "metadata": {},
   "outputs": [],
   "source": [
    "kelmarsh_1_filtered['site_ws_bin'] = pd.cut(kelmarsh_1_filtered['Site wind speed'], ws_bins)"
   ]
  },
  {
   "cell_type": "code",
   "execution_count": null,
   "metadata": {},
   "outputs": [],
   "source": [
    "kelmarsh_1_filtered"
   ]
  },
  {
   "cell_type": "code",
   "execution_count": null,
   "metadata": {},
   "outputs": [],
   "source": [
    "kelmarsh_1_sye_v2 = kelmarsh_1_filtered.groupby(by=[\"site_ws_bin\",\"yaw_bin\"])[\"Power (kW)\"].median()/kelmarsh_1_filtered.groupby(by=[\"site_ws_bin\"])[\"Power (kW)\"].median()\n",
    "kelmarsh_1_sye_v2 = kelmarsh_1_sye_v2.reset_index()"
   ]
  },
  {
   "cell_type": "code",
   "execution_count": null,
   "metadata": {},
   "outputs": [],
   "source": [
    "kelmarsh_1_sye_v2[\"ws_bin_left\"] = pd.IntervalIndex(kelmarsh_1_sye_v2['site_ws_bin']).left\n",
    "kelmarsh_1_sye_v2[\"yaw_bin_left\"] = pd.IntervalIndex(kelmarsh_1_sye_v2['yaw_bin']).left\n",
    "\n",
    "kelmarsh_1_sye_v2 = kelmarsh_1_sye_v2.dropna()"
   ]
  },
  {
   "cell_type": "code",
   "execution_count": null,
   "metadata": {},
   "outputs": [],
   "source": [
    "for ws_bin in set(kelmarsh_1_sye_v2[\"ws_bin_left\"]):\n",
    "    kelmarsh_1_sye_ws_bin = kelmarsh_1_sye_v2[kelmarsh_1_sye_v2[\"ws_bin_left\"]==ws_bin]\n",
    "    \n",
    "    fig = plt.figure()\n",
    "    ax = fig.add_subplot(111)\n",
    "\n",
    "    ax.plot(kelmarsh_1_sye_ws_bin[\"yaw_bin_left\"],kelmarsh_1_sye_ws_bin[\"Power (kW)\"],marker=\".\",linestyle=\"\")\n",
    "\n",
    "    curve_fit_params = curve_fit(cos_curve, \n",
    "            kelmarsh_1_sye_ws_bin[\"yaw_bin_left\"], \n",
    "            kelmarsh_1_sye_ws_bin[\"Power (kW)\"], \n",
    "            [kelmarsh_1_sye_ws_bin[\"Power (kW)\"].max(), 0.0, 2.0])[0]\n",
    "\n",
    "    ax.plot(vane_bins,cos_curve(vane_bins,*curve_fit_params),c=\"red\")\n",
    "    \n",
    "    ax.plot(\n",
    "        2*[curve_fit_params[1]],\n",
    "        [\n",
    "                kelmarsh_1_sye_ws_bin[\"Power (kW)\"].max(),\n",
    "                kelmarsh_1_sye_ws_bin[\"Power (kW)\"].min(),\n",
    "        ],\n",
    "        color=\"red\",\n",
    "        linestyle=\"--\",\n",
    "        label=rf\"Max. Power Vane Angle = {round(curve_fit_params[1],1)}$^\\circ$\",  # noqa: W605\n",
    "        )\n",
    "\n",
    "    plt.title(f\"Wind speed {ws_bin}m/s\")\n",
    "    \n",
    "    ax.legend()\n",
    "    ax.set_xlim([-25,25])\n",
    "    ax.set_ylim([kelmarsh_1_sye_ws_bin[\"Power (kW)\"].min(),kelmarsh_1_sye_ws_bin[\"Power (kW)\"].max()])\n",
    "\n",
    "    "
   ]
  },
  {
   "cell_type": "code",
   "execution_count": null,
   "metadata": {},
   "outputs": [],
   "source": []
  },
  {
   "cell_type": "code",
   "execution_count": null,
   "metadata": {},
   "outputs": [],
   "source": []
  },
  {
   "cell_type": "code",
   "execution_count": null,
   "metadata": {},
   "outputs": [],
   "source": []
  }
 ],
 "metadata": {
  "kernelspec": {
   "display_name": "Python 3",
   "language": "python",
   "name": "python3"
  },
  "language_info": {
   "codemirror_mode": {
    "name": "ipython",
    "version": 3
   },
   "file_extension": ".py",
   "mimetype": "text/x-python",
   "name": "python",
   "nbconvert_exporter": "python",
   "pygments_lexer": "ipython3",
   "version": "3.12.2"
  }
 },
 "nbformat": 4,
 "nbformat_minor": 2
}
